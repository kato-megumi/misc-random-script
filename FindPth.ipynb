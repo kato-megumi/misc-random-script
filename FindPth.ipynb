{
 "cells": [
  {
   "cell_type": "code",
   "execution_count": 22,
   "metadata": {},
   "outputs": [],
   "source": [
    "import os\n",
    "import torch\n",
    "\n",
    "def find_pth_file_with_param(param_value, folder_path='E:\\\\project\\\\neosr\\\\experiments'):\n",
    "    for root, dirs, files in os.walk(folder_path):\n",
    "        for file_name in files:\n",
    "            if file_name.endswith('.pth'):\n",
    "                file_path = os.path.join(root, file_name)\n",
    "                checkpoint = torch.load(file_path, weights_only=True)\n",
    "                for param_name, param_tensor in checkpoint['params'].items():\n",
    "                    if isinstance(param_tensor, torch.Tensor) and (param_tensor == param_value).any():\n",
    "                        yield file_path\n",
    "    return None"
   ]
  },
  {
   "cell_type": "code",
   "execution_count": 40,
   "metadata": {},
   "outputs": [
    {
     "name": "stdout",
     "output_type": "stream",
     "text": [
      "Found .pth file: E:\\project\\neosr\\experiments\\amakano_a14-7-r_b2_li-la\\models\\net_g_50000.pth\n",
      "Found .pth file: E:\\project\\neosr\\experiments\\amakano_a14-7-r_b2_li-la\\models\\net_g_latest.pth\n",
      "Found .pth file: E:\\project\\neosr\\experiments\\otome_a+_l_3cq_gan\\models\\net_d_17500.0.pth\n",
      "Found .pth file: E:\\project\\neosr\\experiments\\otome_a+_l_3cq_gan\\models\\net_d_7500.0.pth\n",
      "Found .pth file: E:\\project\\neosr\\experiments\\shugaten_a+L_ev-fg-hue\\models\\net_g_32500.pth\n",
      "done\n"
     ]
    }
   ],
   "source": [
    "result = list(find_pth_file_with_param(0.02696274220943451))\n",
    "if result:\n",
    "    for file_path in result:\n",
    "        print(f'Found .pth file: {file_path}')\n",
    "else:\n",
    "    print('No .pth file found with the specified parameter value.')\n",
    "!python.exe .\\convert\\anime4k_2_hlsl.py {result[0]} R:\\tmp"
   ]
  }
 ],
 "metadata": {
  "kernelspec": {
   "display_name": "Python 3",
   "language": "python",
   "name": "python3"
  },
  "language_info": {
   "codemirror_mode": {
    "name": "ipython",
    "version": 3
   },
   "file_extension": ".py",
   "mimetype": "text/x-python",
   "name": "python",
   "nbconvert_exporter": "python",
   "pygments_lexer": "ipython3",
   "version": "3.12.7"
  }
 },
 "nbformat": 4,
 "nbformat_minor": 2
}
