{
 "cells": [
  {
   "cell_type": "code",
   "execution_count": null,
   "metadata": {},
   "outputs": [],
   "source": [
    "import os\n",
    "import cv2\n",
    "from skimage.metrics import structural_similarity as ssim\n",
    "import numpy as np\n",
    "\n",
    "def calculate_ssim_psnr(img1, img2):\n",
    "    # Read the images\n",
    "    image1 = cv2.imread(img1)\n",
    "    image2 = cv2.imread(img2)\n",
    "    \n",
    "    # Calculate SSIM\n",
    "    ssim_score = ssim(image1, image2, channel_axis=-1)\n",
    "\n",
    "    # Calculate PSNR\n",
    "    mse = np.mean((image1 - image2) ** 2)\n",
    "    psnr = 10 * np.log10((255 ** 2) / mse)\n",
    "\n",
    "    return ssim_score, psnr\n",
    "\n",
    "folder1 = \"R:/720p_a4k_cut/\" \n",
    "folder2 = \"E:/Dataset/amakano2/hr_dat_cut/\"\n",
    "# print(os.listdir(folder1))\n",
    "list2 = os.listdir(folder2)\n",
    "for name in os.listdir(folder1):\n",
    "    if name not in list2:\n",
    "        # print(f\"Missing {name}\")\n",
    "        continue\n",
    "    ssim_score, psnr = calculate_ssim_psnr(os.path.join(folder1, name), os.path.join(folder2, name))\n",
    "    if ssim_score > 0.98 or psnr >= 40:\n",
    "        print(f\"{name} {ssim_score}  {psnr}\")"
   ]
  }
 ],
 "metadata": {
  "kernelspec": {
   "display_name": "Python 3",
   "language": "python",
   "name": "python3"
  },
  "language_info": {
   "codemirror_mode": {
    "name": "ipython",
    "version": 3
   },
   "file_extension": ".py",
   "mimetype": "text/x-python",
   "name": "python",
   "nbconvert_exporter": "python",
   "pygments_lexer": "ipython3",
   "version": "3.11.5"
  }
 },
 "nbformat": 4,
 "nbformat_minor": 2
}
