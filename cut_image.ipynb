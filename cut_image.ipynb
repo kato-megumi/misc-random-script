{
 "cells": [
  {
   "cell_type": "code",
   "execution_count": 1,
   "metadata": {},
   "outputs": [],
   "source": [
    "import cv2\n",
    "import numpy as np\n",
    "from IPython.display import display\n",
    "from PIL import Image\n",
    "import os\n",
    "from os.path import join\n",
    "\n",
    "def d(i):\n",
    "    display(Image.fromarray(cv2.convertScaleAbs(i)))\n"
   ]
  },
  {
   "cell_type": "code",
   "execution_count": 2,
   "metadata": {},
   "outputs": [
    {
     "name": "stdout",
     "output_type": "stream",
     "text": [
      "0004_0001.png_0 4750684.0\n",
      "0004_0001.png_1 2540763.999999999\n",
      "0004_0001.png_2 1030217.0\n",
      "0008_0005.png_0 5476151.999999998\n",
      "0008_0005.png_1 2780403.999999999\n",
      "0008_0005.png_2 1084673.0\n",
      "0357_0354.png_0 5894995.999999998\n",
      "0357_0354.png_1 3509287.0\n",
      "0357_0354.png_2 1087741.0000000002\n"
     ]
    }
   ],
   "source": [
    "hr_folder = \"R:/raw/\"\n",
    "lr_folder = \"R:/hr\"\n",
    "img_size = 768\n",
    "img_num = 3\n",
    "\n",
    "\n",
    "def high_freq(img):\n",
    "    return img\n",
    "\n",
    "\n",
    "for root, dirs, files in os.walk(hr_folder):\n",
    "    for file in files:\n",
    "        if \"png\" in file or \"webp\" in file:\n",
    "            base, ext = os.path.splitext(file)\n",
    "            img = cv2.imread(join(root, file))\n",
    "            rgb = cv2.cvtColor(img, cv2.COLOR_BGR2RGB)  # Converting BGR to RGB\n",
    "            gray = cv2.cvtColor(img, cv2.COLOR_BGR2GRAY)  # Converting BGR to gray\n",
    "            laplacian = cv2.Laplacian(gray, cv2.CV_64F)\n",
    "            out = np.abs(laplacian)\n",
    "            out = high_freq(out)\n",
    "            for i in range(img_num):\n",
    "                convolved = cv2.filter2D(\n",
    "                    out,\n",
    "                    -1,\n",
    "                    np.ones((img_size, img_size), dtype=np.float64),\n",
    "                    anchor=(0, 0),\n",
    "                    borderType=cv2.BORDER_CONSTANT,\n",
    "                )\n",
    "                print(f\"{file}_{i}\", np.max(convolved))\n",
    "                y, x = np.unravel_index(np.argmax(convolved), convolved.shape)\n",
    "                out[y : y + img_size, x : x + img_size] = 0\n",
    "                cutted = img[y : y + img_size, x : x + img_size]\n",
    "                cv2.imwrite(join(lr_folder, f\"{base}_{i}.png\"), cutted)"
   ]
  },
  {
   "cell_type": "code",
   "execution_count": 179,
   "metadata": {},
   "outputs": [],
   "source": [
    "img = cv2.imread('R:/hr/p1_0001.png')  \n",
    "rgb = cv2.cvtColor(img, cv2.COLOR_BGR2RGB) # Converting BGR to RGB\n",
    "gray = cv2.cvtColor(img, cv2.COLOR_BGR2GRAY) # Converting BGR to gray\n",
    "laplacian = cv2.Laplacian(gray, cv2.CV_64F)\n",
    "\n",
    "out = np.abs(laplacian)\n",
    "# ret ,out = cv2.threshold(out, 20, 255, cv2.THRESH_BINARY)\n",
    "# # d(out)\n",
    "# out = cv2.GaussianBlur(out, (29, 29), 0)\n",
    "# ret ,out = cv2.threshold(out, 127, 255, cv2.THRESH_BINARY)\n",
    "# d(out)"
   ]
  },
  {
   "cell_type": "code",
   "execution_count": null,
   "metadata": {},
   "outputs": [],
   "source": [
    "\n",
    "img = cv2.imread('R:/hr/p1_0552.png')  \n",
    "rgb = cv2.cvtColor(img, cv2.COLOR_BGR2RGB) # Converting BGR to RGB\n",
    "gray = cv2.cvtColor(img, cv2.COLOR_BGR2GRAY) # Converting BGR to gray\n",
    "laplacian = cv2.Laplacian(gray, cv2.CV_64F)\n",
    "\n",
    "out = np.abs(laplacian)\n",
    "\n",
    "window_size = 700\n",
    "\n",
    "convolved = cv2.filter2D(out, -1, np.ones((window_size, window_size), dtype=np.float64), anchor=(0,0), borderType=cv2.BORDER_CONSTANT)\n",
    "y, x = np.unravel_index(np.argmax(convolved), convolved.shape)\n",
    "out[y:y+window_size, x:x+window_size] = 0\n",
    "convolved = cv2.filter2D(out, -1, np.ones((window_size, window_size), dtype=np.float64), anchor=(0,0), borderType=cv2.BORDER_CONSTANT)\n",
    "y2, x2 = np.unravel_index(np.argmax(convolved), convolved.shape)\n",
    "\n",
    "area = rgb[y:y+window_size, x:x+window_size]\n",
    "d(area)\n",
    "area = rgb[y2:y2+window_size, x2:x2+window_size]\n",
    "d(area)\n",
    "# d(high_freq_area)\n",
    "# np.argmax(convolved)\n",
    "# np.argsort(np.max(convolved, axis=0))[-10:]"
   ]
  }
 ],
 "metadata": {
  "kernelspec": {
   "display_name": "Python 3",
   "language": "python",
   "name": "python3"
  },
  "language_info": {
   "codemirror_mode": {
    "name": "ipython",
    "version": 3
   },
   "file_extension": ".py",
   "mimetype": "text/x-python",
   "name": "python",
   "nbconvert_exporter": "python",
   "pygments_lexer": "ipython3",
   "version": "3.11.5"
  },
  "orig_nbformat": 4
 },
 "nbformat": 4,
 "nbformat_minor": 2
}
