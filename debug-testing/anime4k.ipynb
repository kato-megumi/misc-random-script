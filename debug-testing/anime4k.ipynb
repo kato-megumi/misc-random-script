{
 "cells": [
  {
   "cell_type": "code",
   "execution_count": null,
   "metadata": {},
   "outputs": [],
   "source": [
    "import torch\n",
    "import torch.nn as nn\n",
    "import torch.nn.functional as F\n",
    "import torchvision\n",
    "from IPython.display import display\n",
    "from PIL import Image\n",
    "\n",
    "def conv_layer(in_channels, out_channels, kernel_size):\n",
    "    padding = int((kernel_size - 1) / 2)\n",
    "    return nn.Conv2d(in_channels, out_channels, kernel_size, padding=padding)\n",
    "\n",
    "class CReLU(nn.Module):\n",
    "    def __init__(self):\n",
    "        super(CReLU, self).__init__()\n",
    "\n",
    "    def forward(self, x):\n",
    "        return F.relu(torch.cat((x, -x), 1))\n",
    "\n",
    "class anime4k(nn.Module):\n",
    "    def __init__(self, block_depth=7, stack_list=5, num_feat=12, act=\"crelu\", last=False):\n",
    "        super(anime4k, self).__init__()\n",
    "        if act == \"crelu\":\n",
    "            factor = 2\n",
    "            self.act = CReLU()\n",
    "        elif act == \"prelu\":\n",
    "            factor = 1\n",
    "            self.act = nn.PReLU(num_parameters=num_feat)\n",
    "        if type(stack_list) == int:\n",
    "            stack_list = list(range(-stack_list, 0))\n",
    "        self.stack_list = stack_list\n",
    "        self.ps = nn.PixelShuffle(2)\n",
    "        \n",
    "        self.conv_head = conv_layer(3, num_feat, kernel_size=3)\n",
    "        self.conv_mid = nn.ModuleList(\n",
    "            [\n",
    "                conv_layer(num_feat * factor, num_feat, kernel_size=3)\n",
    "                for _ in range(block_depth - 1)\n",
    "            ]\n",
    "        )\n",
    "        if last:\n",
    "            self.conv_tail = conv_layer(factor * num_feat * len(stack_list), 12, kernel_size=3)\n",
    "        else:\n",
    "            self.conv_tail = conv_layer(factor * num_feat * len(stack_list), 12, kernel_size=1)\n",
    "\n",
    "    def forward(self, x):\n",
    "        out = self.act(self.conv_head(x))\n",
    "        depth_list = [out]\n",
    "        for conv in self.conv_mid:\n",
    "            out = self.act(conv(out))\n",
    "            depth_list.append(out)\n",
    "        out = self.conv_tail(torch.cat([depth_list[i] for i in self.stack_list], 1))\n",
    "        out = self.ps(out) + F.interpolate(x, scale_factor=2, mode=\"bilinear\")\n",
    "        # out = self.ps(out)*50+0.5\n",
    "        return torch.clamp(out, max=1.0, min=0.0)\n",
    "    \n",
    "\n",
    "to_pil = torchvision.transforms.ToPILImage()\n",
    "to_tensor = torchvision.transforms.ToTensor()      \n",
    "            \n",
    "device = torch.device(\"cuda\")\n",
    "model = anime4k(block_depth=14, stack_list=7, num_feat=12).to(device).half()\n",
    "model.eval()\n",
    "model.load_state_dict(torch.load(\"E:/project/neosr/experiments/amakano_a14-7-r_b2_li-la/models/net_g_latest.pth\", map_location=device)['params'])\n",
    "image2 = to_tensor(Image.open(\"E:/Dataset/val/sora.png\").convert(\"RGB\")).unsqueeze(0).half().to(device)\n",
    "out = model(image2)[0]\n",
    "print(out.shape)\n",
    "# display(to_pil(out[4:7, :, :]))\n",
    "display(to_pil(out))\n",
    "# out1 = out[0, :, :]\n",
    "# out2 = out[1, :, :]\n",
    "# out3 = out[2, :, :]\n",
    "# out4 = out[3, :, :]\n",
    "# display(to_pil(out1))\n",
    "# display(to_pil(out2))\n",
    "# display(to_pil(out3))\n",
    "# display(to_pil(out4))"
   ]
  },
  {
   "cell_type": "code",
   "execution_count": 4,
   "metadata": {},
   "outputs": [
    {
     "name": "stdout",
     "output_type": "stream",
     "text": [
      "17412\n",
      "36216\n",
      "44604\n"
     ]
    }
   ],
   "source": [
    "model = anime4k(block_depth=7, stack_list=5, num_feat=12)\n",
    "print(sum(p.numel() for p in model.parameters() if p.requires_grad))\n",
    "model = anime4k(block_depth=14, stack_list=7, num_feat=12)\n",
    "print(sum(p.numel() for p in model.parameters() if p.requires_grad))\n",
    "model = anime4k(block_depth=17, stack_list=9, num_feat=12)\n",
    "print(sum(p.numel() for p in model.parameters() if p.requires_grad))"
   ]
  }
 ],
 "metadata": {
  "kernelspec": {
   "display_name": "Python 3",
   "language": "python",
   "name": "python3"
  },
  "language_info": {
   "codemirror_mode": {
    "name": "ipython",
    "version": 3
   },
   "file_extension": ".py",
   "mimetype": "text/x-python",
   "name": "python",
   "nbconvert_exporter": "python",
   "pygments_lexer": "ipython3",
   "version": "3.11.5"
  }
 },
 "nbformat": 4,
 "nbformat_minor": 2
}
