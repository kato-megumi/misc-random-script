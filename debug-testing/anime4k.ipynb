{
 "cells": [
  {
   "cell_type": "code",
   "execution_count": 2,
   "metadata": {},
   "outputs": [
    {
     "name": "stderr",
     "output_type": "stream",
     "text": [
      "R:\\Temp\\ipykernel_6592\\297978665.py:97: FutureWarning: You are using `torch.load` with `weights_only=False` (the current default value), which uses the default pickle module implicitly. It is possible to construct malicious pickle data which will execute arbitrary code during unpickling (See https://github.com/pytorch/pytorch/blob/main/SECURITY.md#untrusted-models for more details). In a future release, the default value for `weights_only` will be flipped to `True`. This limits the functions that could be executed during unpickling. Arbitrary objects will no longer be allowed to be loaded via this mode unless they are explicitly allowlisted by the user via `torch.serialization.add_safe_globals`. We recommend you start setting `weights_only=True` for any use case where you don't have full control of the loaded file. Please open an issue on GitHub for any issues related to this experimental feature.\n",
      "  model.load_state_dict(torch.load(\"E:/project/neosr/experiments/amakano_a14-7-r_b2_li-la/models/net_g_latest.pth\", map_location=device)['params'])\n"
     ]
    },
    {
     "name": "stdout",
     "output_type": "stream",
     "text": [
      "torch.Size([3, 1440, 2560])\n"
     ]
    }
   ],
   "source": [
    "import torch\n",
    "import torch.nn as nn\n",
    "import torch.nn.functional as F\n",
    "import torchvision\n",
    "from IPython.display import display\n",
    "from PIL import Image\n",
    "import re\n",
    "import math\n",
    "\n",
    "def conv_layer(in_channels, out_channels, kernel_size):\n",
    "    padding = int((kernel_size - 1) / 2)\n",
    "    return nn.Conv2d(in_channels, out_channels, kernel_size, padding=padding)\n",
    "\n",
    "class CReLU(nn.Module):\n",
    "    def __init__(self):\n",
    "        super(CReLU, self).__init__()\n",
    "\n",
    "    def forward(self, x):\n",
    "        return F.relu(torch.cat((x, -x), 1))\n",
    "\n",
    "class anime4k(nn.Module):\n",
    "    def __init__(self, block_depth=7, stack_list=5, num_feat=12, last=False, scale=2, single_tail=False, upscale_mode=\"bilinear\"):\n",
    "        super(anime4k, self).__init__()\n",
    "        self.act = CReLU()\n",
    "        if type(stack_list) == int:\n",
    "            stack_list = list(range(-stack_list, 0))\n",
    "        self.stack_list = stack_list\n",
    "        self.scale = scale\n",
    "        self.ps = nn.PixelShuffle(self.scale)\n",
    "        self.conv_head = conv_layer(3, num_feat, kernel_size=3)\n",
    "        self.conv_mid = nn.ModuleList(\n",
    "            [\n",
    "                conv_layer(num_feat * 2, num_feat, kernel_size=3)\n",
    "                for _ in range(block_depth - 1)\n",
    "            ]\n",
    "        )\n",
    "        tail_out_c = 4 if single_tail else 3*scale*scale\n",
    "        if last:\n",
    "            self.conv_tail = conv_layer(2 * num_feat * len(stack_list), tail_out_c, kernel_size=3)\n",
    "        else:\n",
    "            self.conv_tail = conv_layer(2 * num_feat * len(stack_list), tail_out_c, kernel_size=1)\n",
    "        self.upscale_mode = upscale_mode\n",
    "\n",
    "    def forward(self, x):\n",
    "        out = self.act(self.conv_head(x))\n",
    "        depth_list = [out]\n",
    "        for conv in self.conv_mid:\n",
    "            out = self.act(conv(out))\n",
    "            depth_list.append(out)\n",
    "        out = self.conv_tail(torch.cat([depth_list[i] for i in self.stack_list], 1))\n",
    "        if self.scale != 1:\n",
    "            out = self.ps(out) + F.interpolate(x, scale_factor=self.scale, mode=self.upscale_mode)\n",
    "        else:\n",
    "            out += x\n",
    "        return torch.clamp(out, max=1.0, min=0.0)\n",
    "\n",
    "    def import_param(self, filename):\n",
    "        for param in self.parameters():\n",
    "            param.requires_grad = False\n",
    "        with open(filename) as f:\n",
    "            text = f.read()\n",
    "        pattern = r'-?\\d+(\\.\\d{4,})(e-?\\d+)?'\n",
    "        iter = re.finditer(pattern, text)\n",
    "        convert(self.conv_head, iter)\n",
    "        for conv in self.conv_mid:\n",
    "            convert(conv, iter)\n",
    "        convert(self.conv_tail, iter, True)\n",
    "        check = next(iter, None)\n",
    "        if check == None:\n",
    "            print(\"pass\")\n",
    "        else:\n",
    "            print(\"---failed---\\n\", check)\n",
    "\n",
    "\n",
    "def convert(c, iter, doswap=False):\n",
    "    swap = [0,2,1,3]\n",
    "    out_chan, in_chan, width, height = c.weight.shape\n",
    "    for to in range(math.ceil(out_chan/4)):\n",
    "        for ti in range(math.ceil(in_chan/4)):\n",
    "            for w in range(width):\n",
    "                for h in range(height):\n",
    "                    for i in range(min(4, in_chan)):\n",
    "                        for o in range(min(4, out_chan)):\n",
    "                            o = swap[o] if doswap else o\n",
    "                            c.weight.data[to*4+o, ti*4+i, w, h] = float(next(iter).group(0))\n",
    "        for o in range(min(4, out_chan)):\n",
    "            o = swap[o] if doswap else o\n",
    "            c.bias.data[to*4+o] = float(next(iter).group(0))\n",
    "    \n",
    "\n",
    "to_pil = torchvision.transforms.ToPILImage()\n",
    "to_tensor = torchvision.transforms.ToTensor()      \n",
    "            \n",
    "device = torch.device(\"cuda\")\n",
    "model = anime4k(block_depth=14, stack_list=7, num_feat=12).to(device).half()\n",
    "model.eval()\n",
    "model.load_state_dict(torch.load(\"E:/project/neosr/experiments/amakano_a14-7-r_b2_li-la/models/net_g_latest.pth\", map_location=device)['params'])\n",
    "image2 = to_tensor(Image.open(\"E:/Dataset/val/sora.png\").convert(\"RGB\")).unsqueeze(0).half().to(device)\n",
    "out = model(image2)[0]\n",
    "print(out.shape)\n",
    "# display(to_pil(out))\n"
   ]
  },
  {
   "cell_type": "code",
   "execution_count": null,
   "metadata": {},
   "outputs": [
    {
     "name": "stdout",
     "output_type": "stream",
     "text": [
      "pass\n",
      "pass\n",
      "pass\n"
     ]
    }
   ],
   "source": [
    "# Create ONNX from 2 models\n",
    "# restoreul = anime4k(8, 5, 12, False, 1).to(device).half()\n",
    "# restoreul.import_param(\"../tmp/Anime4K_Restore_CNN_UL.glsl\")\n",
    "# softul = anime4k(8, 5, 12, False, 1).to(device).half()\n",
    "# softul.import_param(\"../tmp/Anime4K_Restore_CNN_Soft_UL.glsl\")\n",
    "# upul = anime4k(7, 5, 12, False, 2).to(device).half()\n",
    "# upul.import_param(\"../tmp/Anime4K_Upscale_CNN_x2_UL.glsl\")\n",
    "# dummy_input = torch.randn(1, 3, 720, 1280).half().to(device)\n",
    "# reup = nn.Sequential(restoreul, upul)\n",
    "# soup = nn.Sequential(softul, upul)\n",
    "# upre = nn.Sequential(upul, restoreul)\n",
    "# upso = nn.Sequential(upul, softul)\n",
    "\n",
    "# for model, path in [(reup, \"R:/RestoreUL_UpscaleUL.onnx\"), (soup, \"R:/SoftUL_UpscaleUL.onnx\"), (upre, \"R:/UpscaleUL_RestoreUL.onnx\"), (upso, \"R:/UpscaleUL_SoftUL.onnx\")]:\n",
    "#     torch.onnx.export(\n",
    "#         model,\n",
    "#         dummy_input,\n",
    "#         path,\n",
    "#         input_names=[\"input\"],\n",
    "#         output_names=[\"output\"],\n",
    "#         dynamic_axes={\n",
    "#             \"input\": {0: \"batch_size\", 2: \"height\", 3: \"width\"},\n",
    "#             \"output\": {0: \"batch_size\", 2: \"height\", 3: \"width\"},\n",
    "#         },\n",
    "#         opset_version=17,\n",
    "#     )"
   ]
  },
  {
   "cell_type": "code",
   "execution_count": 6,
   "metadata": {},
   "outputs": [
    {
     "name": "stdout",
     "output_type": "stream",
     "text": [
      "8540\n",
      "9316\n",
      "17412\n",
      "17436\n",
      "17428\n",
      "36216\n",
      "44604\n"
     ]
    }
   ],
   "source": [
    "model = anime4k(block_depth=7, stack_list=7, num_feat=8)\n",
    "print(sum(p.numel() for p in model.parameters() if p.requires_grad))\n",
    "model = anime4k(block_depth=8, stack_list=5, num_feat=8)\n",
    "print(sum(p.numel() for p in model.parameters() if p.requires_grad))\n",
    "model = anime4k(block_depth=7, stack_list=5, num_feat=12)\n",
    "print(sum(p.numel() for p in model.parameters() if p.requires_grad))\n",
    "model = anime4k(block_depth=15, stack_list=5, num_feat=8)\n",
    "print(sum(p.numel() for p in model.parameters() if p.requires_grad))\n",
    "model = anime4k(block_depth=14, stack_list=11, num_feat=8)\n",
    "print(sum(p.numel() for p in model.parameters() if p.requires_grad))\n",
    "model = anime4k(block_depth=14, stack_list=7, num_feat=12)\n",
    "print(sum(p.numel() for p in model.parameters() if p.requires_grad))\n",
    "model = anime4k(block_depth=17, stack_list=9, num_feat=12)\n",
    "print(sum(p.numel() for p in model.parameters() if p.requires_grad))"
   ]
  }
 ],
 "metadata": {
  "kernelspec": {
   "display_name": "Python 3",
   "language": "python",
   "name": "python3"
  },
  "language_info": {
   "codemirror_mode": {
    "name": "ipython",
    "version": 3
   },
   "file_extension": ".py",
   "mimetype": "text/x-python",
   "name": "python",
   "nbconvert_exporter": "python",
   "pygments_lexer": "ipython3",
   "version": "3.12.7"
  }
 },
 "nbformat": 4,
 "nbformat_minor": 2
}
