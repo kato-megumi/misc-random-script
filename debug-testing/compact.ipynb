{
 "cells": [
  {
   "cell_type": "code",
   "execution_count": null,
   "metadata": {},
   "outputs": [],
   "source": [
    "\n",
    "import torch\n",
    "import torch.nn as nn\n",
    "import torch.nn.functional as F\n",
    "import torchvision\n",
    "from IPython.display import display\n",
    "from PIL import Image\n",
    "\n",
    "class compact(nn.Module):\n",
    "\n",
    "    def __init__(self, num_in_ch=3, num_out_ch=3, num_feat=64, num_conv=16, upscale=2, act_type='prelu', **kwargs):\n",
    "        super(compact, self).__init__()\n",
    "        self.num_in_ch = num_in_ch\n",
    "        self.num_out_ch = num_out_ch\n",
    "        self.num_feat = num_feat\n",
    "        self.num_conv = num_conv\n",
    "        self.upscale = upscale\n",
    "        self.act_type = act_type\n",
    "\n",
    "        self.body = nn.ModuleList()\n",
    "        # the first conv\n",
    "        self.body.append(nn.Conv2d(num_in_ch, num_feat, 3, 1, 1))\n",
    "        # the first activation\n",
    "        if act_type == 'relu':\n",
    "            activation = nn.ReLU(inplace=True)\n",
    "        elif act_type == 'prelu':\n",
    "            activation = nn.PReLU(num_parameters=num_feat)\n",
    "        elif act_type == 'leakyrelu':\n",
    "            activation = nn.LeakyReLU(negative_slope=0.1, inplace=True)\n",
    "        self.body.append(activation)\n",
    "\n",
    "        # the body structure\n",
    "        for _ in range(num_conv):\n",
    "            self.body.append(nn.Conv2d(num_feat, num_feat, 3, 1, 1))\n",
    "            # activation\n",
    "            if act_type == 'relu':\n",
    "                activation = nn.ReLU(inplace=True)\n",
    "            elif act_type == 'prelu':\n",
    "                activation = nn.PReLU(num_parameters=num_feat)\n",
    "            elif act_type == 'leakyrelu':\n",
    "                activation = nn.LeakyReLU(negative_slope=0.1, inplace=True)\n",
    "            self.body.append(activation)\n",
    "\n",
    "        # the last conv\n",
    "        self.body.append(nn.Conv2d(num_feat, num_out_ch *\n",
    "                         upscale * upscale, 3, 1, 1))\n",
    "        # upsample\n",
    "        self.upsampler = nn.PixelShuffle(upscale)\n",
    "\n",
    "    def forward(self, x):\n",
    "        out = x\n",
    "\n",
    "        out = self.body[0](out)\n",
    "        out = self.body[1](out)\n",
    "        # out = self.body[2](out)\n",
    "        # out = self.body[3](out)\n",
    "        # out = self.body[4](out)\n",
    "        # out = self.body[5](out)\n",
    "        out = out[:, :3, :, :]\n",
    "        \n",
    "        # out = out * 5 + 0.5\n",
    "\n",
    "        # for i in range(0, len(self.body)):\n",
    "        #     out = self.body[i](out)\n",
    "        # out = self.upsampler(out)\n",
    "        # base = F.interpolate(x, scale_factor=self.upscale, mode='nearest')\n",
    "        # out += base\n",
    "        return torch.clamp(out, min=0, max=1)\n",
    "\n",
    "to_pil = torchvision.transforms.ToPILImage()\n",
    "to_tensor = torchvision.transforms.ToTensor()\n",
    "\n",
    "\n",
    "device = torch.device(\"cuda\")\n",
    "model = compact(num_feat=48, num_conv=8).to(device).half()\n",
    "model.eval()\n",
    "model.load_state_dict(torch.load(\"R:/AnimeJaNai_UC.pth\", map_location=device)['params'])\n",
    "# model.load_state_dict(torch.load(\"E:/project/neosr/experiments/compact_small/models/net_g_latest.pth\", map_location=device)['params'])\n",
    "# model.load_state_dict(torch.load(\"E:/project/neosr/experiments/compact_test/models/net_g_latest.pth\", map_location=device)['params'])\n",
    "image2 = to_tensor(Image.open(\"C:/Users/khoi/Videos/test.png\").convert(\"RGB\")).unsqueeze(0).half().to(device)\n",
    "out = model(image2)[0]\n",
    "print(out.shape)\n",
    "# display(to_pil(out[:3, :, :]))\n",
    "display(to_pil(out))\n",
    "# out1 = out[0, :, :]\n",
    "# out2 = out[1, :, :]\n",
    "# out3 = out[2, :, :]\n",
    "# out4 = out[3, :, :]\n",
    "# display(to_pil(out1))\n",
    "# display(to_pil(out2))\n",
    "# display(to_pil(out3))\n",
    "# display(to_pil(out4))\n",
    "\n"
   ]
  },
  {
   "cell_type": "code",
   "execution_count": 8,
   "metadata": {},
   "outputs": [
    {
     "name": "stdout",
     "output_type": "stream",
     "text": [
      "1.575\n",
      "120.0\n"
     ]
    }
   ],
   "source": [
    "print(3024/1920)\n",
    "# 1.575\n",
    "# 94"
   ]
  },
  {
   "cell_type": "code",
   "execution_count": 47,
   "metadata": {},
   "outputs": [
    {
     "name": "stdout",
     "output_type": "stream",
     "text": [
      "232.0\n",
      "225.0\n",
      "872.0\n",
      "585.0\n"
     ]
    }
   ],
   "source": [
    "print((3024-2560)/2)\n",
    "print((1890-1440)/2)\n",
    "print((3024-1280)/2)\n",
    "print((1890-720)/2)"
   ]
  }
 ],
 "metadata": {
  "kernelspec": {
   "display_name": "Python 3",
   "language": "python",
   "name": "python3"
  },
  "language_info": {
   "codemirror_mode": {
    "name": "ipython",
    "version": 3
   },
   "file_extension": ".py",
   "mimetype": "text/x-python",
   "name": "python",
   "nbconvert_exporter": "python",
   "pygments_lexer": "ipython3",
   "version": "3.11.5"
  }
 },
 "nbformat": 4,
 "nbformat_minor": 2
}
