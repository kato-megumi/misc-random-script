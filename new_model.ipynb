{
 "cells": [
  {
   "cell_type": "code",
   "execution_count": 36,
   "metadata": {},
   "outputs": [],
   "source": [
    "import torch\n",
    "from torch import nn\n",
    "import torch.nn.functional as F\n",
    "\n",
    "def conv_layer(in_channels,\n",
    "               out_channels,\n",
    "               kernel_size = 3,\n",
    "               bias=True):\n",
    "    padding = int((kernel_size - 1) / 2)\n",
    "    return nn.Conv2d(in_channels,\n",
    "                     out_channels,\n",
    "                     kernel_size=kernel_size,\n",
    "                     padding=padding,\n",
    "                     bias=bias)\n",
    "\n",
    "class CReLU(nn.Module):\n",
    "    def __init__(self):\n",
    "        super(CReLU, self).__init__()\n",
    "    def forward(self, x):\n",
    "        return F.relu(torch.cat((x, -x), 1))\n",
    "\n",
    "class PFAB(nn.Module):\n",
    "    def __init__(self, in_channels, out_channels):\n",
    "        super(PFAB, self).__init__()\n",
    "        self.conv1 = conv_layer(in_channels, out_channels)\n",
    "        self.conv2 = conv_layer(out_channels, out_channels)\n",
    "        self.act = nn.PReLU(out_channels)\n",
    "    def forward(self, x):\n",
    "        out = self.act(self.conv1(x))\n",
    "        att = torch.sigmoid(self.conv2(out)) - 0.5\n",
    "        return out * att\n",
    "\n",
    "class AnimeA(nn.Module):\n",
    "    def __init__(self, channel=8, block_depth=6, scale=2, stack_list=None):\n",
    "        super(AnimeA, self).__init__()\n",
    "        self.scale = scale\n",
    "        self.first = nn.Conv2d(3, channel, kernel_size=3, padding=1)\n",
    "        self.body = nn.ModuleList([PFAB(channel, channel) for _ in range(block_depth)])\n",
    "        if stack_list == None:\n",
    "            stack_list = list(range(block_depth+1))\n",
    "        self.stack_list = [s for s in stack_list if s <= channel]\n",
    "        print(self.stack_list)\n",
    "        self.last = nn.Sequential(conv_layer(channel * len(self.stack_list), 3*scale*scale), nn.PixelShuffle(scale))\n",
    "    def forward(self, x):\n",
    "        stack = []\n",
    "        out = self.first(x)\n",
    "        if 0 in self.stack_list:\n",
    "            stack.append(out)\n",
    "        for index, block in enumerate(self.body):\n",
    "            out = block(out)\n",
    "            if index+1 in self.stack_list:\n",
    "                stack.append(out)\n",
    "        out = self.last(torch.cat(stack, 1))\n",
    "        return out + F.interpolate(x, scale_factor=self.scale, mode='bilinear')\n"
   ]
  },
  {
   "cell_type": "code",
   "execution_count": 41,
   "metadata": {},
   "outputs": [
    {
     "name": "stderr",
     "output_type": "stream",
     "text": [
      "Unsupported operator aten::prelu encountered 6 time(s)\n",
      "Unsupported operator aten::sigmoid encountered 6 time(s)\n",
      "Unsupported operator aten::sub encountered 6 time(s)\n",
      "Unsupported operator aten::mul encountered 6 time(s)\n",
      "Unsupported operator aten::pixel_shuffle encountered 1 time(s)\n",
      "Unsupported operator aten::add encountered 1 time(s)\n"
     ]
    },
    {
     "name": "stdout",
     "output_type": "stream",
     "text": [
      "[0, 1, 5, 6]\n",
      "19.453G\n"
     ]
    }
   ],
   "source": [
    "device = torch.device(\"mps\")\n",
    "dummy_input = torch.randn(1, 3, 720, 1280).to(device).half()\n",
    "from fvcore.nn import FlopCountAnalysis\n",
    "model = AnimeA(channel=12, block_depth=6, scale=2, stack_list=[0, 1, 5, 6]).to(device).half()\n",
    "flops = FlopCountAnalysis(model, dummy_input)\n",
    "print(f'{flops.total() / 10**9:.3f}G')"
   ]
  },
  {
   "cell_type": "code",
   "execution_count": null,
   "metadata": {},
   "outputs": [],
   "source": [
    "'''\n",
    "channel=8, block_depth=6, scale=2, stack_list=[0, 1, 2, 3, 4, 5, 6]\n",
    "12.187G\n",
    "channel=8, block_depth=6, scale=2, stack_list=[0, 1, 5, 6]\n",
    "9.798G\n",
    "channel=12, block_depth=6, scale=2, stack_list=[0, 1, 5, 6]\n",
    "19.453G\n",
    "channel=12, block_depth=7, scale=2, stack_list=[0, 1, 6, 7]\n",
    "21.842G\n",
    "'''"
   ]
  }
 ],
 "metadata": {
  "kernelspec": {
   "display_name": "Python 3",
   "language": "python",
   "name": "python3"
  },
  "language_info": {
   "codemirror_mode": {
    "name": "ipython",
    "version": 3
   },
   "file_extension": ".py",
   "mimetype": "text/x-python",
   "name": "python",
   "nbconvert_exporter": "python",
   "pygments_lexer": "ipython3",
   "version": "3.11.5"
  }
 },
 "nbformat": 4,
 "nbformat_minor": 2
}
