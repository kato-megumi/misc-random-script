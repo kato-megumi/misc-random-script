{
 "cells": [
  {
   "cell_type": "code",
   "execution_count": 1,
   "metadata": {},
   "outputs": [],
   "source": [
    "# move extracted game's assets to lr and hr folder\n",
    "import os\n",
    "from os.path import join\n",
    "import shutil\n",
    "root_folder = 'R:/ev'\n",
    "hr_folder = 'E:/Dataset/hamidashi/hr'\n",
    "lr_folder = 'E:/Dataset/hamidashi/lr'\n",
    "\n",
    "for folder_path in [lr_folder, hr_folder]:\n",
    "    if not os.path.exists(folder_path):\n",
    "        os.makedirs(folder_path)\n",
    "\n",
    "# Use os.walk() to traverse through all directories and subdirectories\n",
    "for root, dirs, files in os.walk(root_folder):\n",
    "    for file in files:\n",
    "        if \"png\" in file and file[0] == 'z':\n",
    "            name = file[1:]\n",
    "            if name not in files:\n",
    "                continue\n",
    "            shutil.move(join(root, file), join(hr_folder, name))\n",
    "            shutil.move(join(root, name), join(lr_folder, name))\n"
   ]
  }
 ],
 "metadata": {
  "kernelspec": {
   "display_name": "Python 3",
   "language": "python",
   "name": "python3"
  },
  "language_info": {
   "codemirror_mode": {
    "name": "ipython",
    "version": 3
   },
   "file_extension": ".py",
   "mimetype": "text/x-python",
   "name": "python",
   "nbconvert_exporter": "python",
   "pygments_lexer": "ipython3",
   "version": "3.11.5"
  },
  "orig_nbformat": 4
 },
 "nbformat": 4,
 "nbformat_minor": 2
}
