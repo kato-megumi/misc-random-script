{
 "cells": [
  {
   "cell_type": "code",
   "execution_count": 6,
   "metadata": {},
   "outputs": [],
   "source": [
    "import torch \n",
    "import einops\n",
    "import math\n",
    "import re\n",
    "# model = torch.load(\"E:/project/neosr/experiments/ul_hamidashi_huber_2/models/net_g_latest.pth\", map_location=torch.device('cuda'))\n",
    "model = torch.load(\"E:/project/neosr/experiments/test_a4k_ul_combine/models/net_g_latest.pth\", map_location=torch.device('cuda'))\n",
    "\n",
    "def convert(weight, bias, data, doswap=False):\n",
    "    swap = [0,2,1,3]\n",
    "    out_chan, in_chan, width, height = weight.shape\n",
    "    for to in range(math.ceil(out_chan/4)):\n",
    "        for ti in range(math.ceil(in_chan/4)):\n",
    "            for w in range(width):\n",
    "                for h in range(height):\n",
    "                    for i in range(min(4, in_chan)):\n",
    "                        for o in range(min(4, out_chan)):\n",
    "                            o = swap[o] if doswap else o\n",
    "                            data.append(float(weight[to*4+o, ti*4+i, w, h]))\n",
    "        for o in range(min(4, out_chan)):\n",
    "            o = swap[o] if doswap else o\n",
    "            data.append(float(bias.data[to*4+o]))\n",
    "\n",
    "if \"params\" in model.keys():\n",
    "    model = model[\"params\"]\n",
    "layers = [i[:-7] for i in model.keys() if \".weight\" in i]\n",
    "data = []\n",
    "for i in layers:\n",
    "    convert(model[i+\".weight\"], model[i+\".bias\"], data, doswap= \"tail\" in i)\n",
    "\n",
    "\n",
    "with open(\"C:/Users/khoi/Downloads/Magpie-dev-315f619/effects/Anime4K/Anime4K_Upscale_UL.hlsl\",encoding='utf-8') as f:\n",
    "    text = f.read()\n",
    "data_iter = iter(data)\n",
    "def replace_match(match):\n",
    "    return str(next(data_iter))\n",
    "\n",
    "pattern = r'-?\\d+(\\.\\d{2,})(e-?\\d+)?'\n",
    "\n",
    "new_text = re.sub(pattern, replace_match, text)\n",
    "\n",
    "# with open(\"tmp/Anime4K_Upscale_UL_hamidashi.hlsl\",\"w\") as f:\n",
    "with open(\"tmp/Anime4K_Upscale_UL_amakano.hlsl\",\"w\") as f:\n",
    "    f.write(new_text)"
   ]
  },
  {
   "cell_type": "code",
   "execution_count": null,
   "metadata": {},
   "outputs": [],
   "source": []
  }
 ],
 "metadata": {
  "kernelspec": {
   "display_name": "Python 3",
   "language": "python",
   "name": "python3"
  },
  "language_info": {
   "codemirror_mode": {
    "name": "ipython",
    "version": 3
   },
   "file_extension": ".py",
   "mimetype": "text/x-python",
   "name": "python",
   "nbconvert_exporter": "python",
   "pygments_lexer": "ipython3",
   "version": "3.11.5"
  },
  "orig_nbformat": 4
 },
 "nbformat": 4,
 "nbformat_minor": 2
}
