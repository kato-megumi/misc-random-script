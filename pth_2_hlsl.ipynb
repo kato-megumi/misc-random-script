{
 "cells": [
  {
   "cell_type": "code",
   "execution_count": 42,
   "metadata": {},
   "outputs": [
    {
     "data": {
      "text/plain": [
       "17412"
      ]
     },
     "execution_count": 42,
     "metadata": {},
     "output_type": "execute_result"
    }
   ],
   "source": [
    "import torch \n",
    "import einops\n",
    "import math\n",
    "import re\n",
    "model = torch.load(\"/Users/khoi.ho/Downloads/Upscale_UL.pth\", map_location=torch.device('mps'))\n",
    "\n",
    "def convert(weight, bias, data, doswap=False):\n",
    "    swap = [0,2,1,3]\n",
    "    out_chan, in_chan, width, height = weight.shape\n",
    "    for to in range(math.ceil(out_chan/4)):\n",
    "        for ti in range(math.ceil(in_chan/4)):\n",
    "            for w in range(width):\n",
    "                for h in range(height):\n",
    "                    for i in range(min(4, in_chan)):\n",
    "                        for o in range(min(4, out_chan)):\n",
    "                            o = swap[o] if doswap else o\n",
    "                            data.append(float(weight[to*4+o, ti*4+i, w, h]))\n",
    "        for o in range(min(4, out_chan)):\n",
    "            o = swap[o] if doswap else o\n",
    "            data.append(float(bias.data[to*4+o]))\n",
    "\n",
    "layers = [i[:-7] for i in model.keys() if \".weight\" in i]\n",
    "data = []\n",
    "for i in layers:\n",
    "    convert(model[i+\".weight\"], model[i+\".bias\"], data)\n",
    "len(data)"
   ]
  },
  {
   "cell_type": "code",
   "execution_count": null,
   "metadata": {},
   "outputs": [],
   "source": [
    "with open(\"tmp/Anime4K_Upscale_CNN_x2_UL.glsl\") as f:\n",
    "    text = f.read()\n",
    "data_iter = iter(data)\n",
    "def replace_match(match):\n",
    "    return str(next(data_iter))\n",
    "\n",
    "pattern = r'-?\\d+(\\.\\d{2,})(e-?\\d+)?'\n",
    "\n",
    "a = re.sub(pattern, replace_match, text)\n",
    "print(a)"
   ]
  }
 ],
 "metadata": {
  "kernelspec": {
   "display_name": "Python 3",
   "language": "python",
   "name": "python3"
  },
  "language_info": {
   "codemirror_mode": {
    "name": "ipython",
    "version": 3
   },
   "file_extension": ".py",
   "mimetype": "text/x-python",
   "name": "python",
   "nbconvert_exporter": "python",
   "pygments_lexer": "ipython3",
   "version": "3.11.5"
  },
  "orig_nbformat": 4
 },
 "nbformat": 4,
 "nbformat_minor": 2
}
