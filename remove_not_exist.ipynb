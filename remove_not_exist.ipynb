{
 "cells": [
  {
   "cell_type": "code",
   "execution_count": null,
   "metadata": {},
   "outputs": [],
   "source": [
    "import os, shutil\n",
    "folder1 = \"E:/Dataset/amakano2/screenshot/lr_cut\" \n",
    "folder2 = \"E:/Dataset/amakano2/screenshot/hr_cut\"\n",
    "remove_folder = \"E:/remove_hr\"\n",
    "\n",
    "# remove image in folder2 if it isnt in folder1\n",
    "list1 = os.listdir(folder1)\n",
    "for name in os.listdir(folder2):\n",
    "    if name not in list1:\n",
    "        print(f\"Missing {name}\")\n",
    "        shutil.move(os.path.join(folder2, name), remove_folder)"
   ]
  }
 ],
 "metadata": {
  "language_info": {
   "name": "python"
  }
 },
 "nbformat": 4,
 "nbformat_minor": 2
}
