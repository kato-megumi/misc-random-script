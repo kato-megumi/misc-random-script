{
 "cells": [
  {
   "cell_type": "code",
   "execution_count": 3,
   "id": "e8e57df6",
   "metadata": {},
   "outputs": [
    {
     "name": "stdout",
     "output_type": "stream",
     "text": [
      "Upscaled image saved to R:\\out.png\n"
     ]
    }
   ],
   "source": [
    "import onnxruntime as ort\n",
    "import numpy as np\n",
    "from PIL import Image\n",
    "\n",
    "def upscale_image_with_onnx(model_path, input_image_path, output_image_path):\n",
    "    # Load the ONNX model\n",
    "    session = ort.InferenceSession(model_path)\n",
    "\n",
    "    # Load and preprocess the input image\n",
    "    image = Image.open(input_image_path).convert(\"RGB\")\n",
    "    input_size = session.get_inputs()[0].shape[2:]  # Get input size from the model\n",
    "    input_array = np.array(image).astype(np.float32) / 255.0  # Normalize to [0, 1]\n",
    "    input_array = np.transpose(input_array, (2, 0, 1))  # HWC to CHW\n",
    "    input_array = np.expand_dims(input_array, axis=0)  # Add batch dimension\n",
    "\n",
    "    # Run the model\n",
    "    input_name = session.get_inputs()[0].name\n",
    "    output_name = session.get_outputs()[0].name\n",
    "    input_array = input_array.astype(np.float16)  # Convert input to float16\n",
    "    output_array = session.run([output_name], {input_name: input_array})[0]\n",
    "\n",
    "    # Postprocess the output\n",
    "    output_array = np.squeeze(output_array)  # Remove batch dimension\n",
    "    output_array = np.transpose(output_array, (1, 2, 0))  # CHW to HWC\n",
    "    output_array = np.clip(output_array * 255.0, 0, 255).astype(np.uint8)  # Denormalize to [0, 255]\n",
    "    output_image = Image.fromarray(output_array)\n",
    "\n",
    "    # Save the upscaled image\n",
    "    output_image.save(output_image_path)\n",
    "    print(f\"Upscaled image saved to {output_image_path}\")\n",
    "\n",
    "# Example usage\n",
    "model_path = r\"onnxModel/Restore_UL.onnx\"\n",
    "input_image_path = r\"d:\\3dModel\\Hueforge_image\\kyockcho\\PROCESSED\\Miyabi.png\"\n",
    "output_image_path = r\"R:\\out.png\"\n",
    "upscale_image_with_onnx(model_path, input_image_path, output_image_path)"
   ]
  }
 ],
 "metadata": {
  "kernelspec": {
   "display_name": "Python 3",
   "language": "python",
   "name": "python3"
  },
  "language_info": {
   "codemirror_mode": {
    "name": "ipython",
    "version": 3
   },
   "file_extension": ".py",
   "mimetype": "text/x-python",
   "name": "python",
   "nbconvert_exporter": "python",
   "pygments_lexer": "ipython3",
   "version": "3.12.10"
  }
 },
 "nbformat": 4,
 "nbformat_minor": 5
}
