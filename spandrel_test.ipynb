{
 "cells": [
  {
   "cell_type": "code",
   "execution_count": 6,
   "metadata": {},
   "outputs": [],
   "source": [
    "from spandrel import ImageModelDescriptor, ModelLoader\n",
    "import torch\n",
    "from torchvision import transforms \n",
    "from PIL import Image\n",
    "\n",
    "# load a model from disk\n",
    "device = torch.device(\"mps\")\n",
    "model = ModelLoader().load_from_file(\"/Users/khoi.ho/Downloads/4x_escale_100000_G.pth\")\n",
    "model.to(device).half()\n",
    "preprocess = transforms.Compose([\n",
    "    transforms.ToTensor(),\n",
    "])\n",
    "\n",
    "def process(image: torch.Tensor) -> torch.Tensor:\n",
    "    with torch.no_grad():\n",
    "        return model(image)\n",
    "\n",
    "image = Image.open(\"/Users/khoi.ho/Desktop/yorikure_stand_result/L/hoo_1_d_1_1.png\").convert(\"RGB\")\n",
    "image_tensor = preprocess(image).unsqueeze(0)\n",
    "image_tensor = image_tensor.to(device).half()\n",
    "with torch.no_grad():\n",
    "    processed_image_tensor = model(image_tensor)\n",
    "processed_image = transforms.ToPILImage()(processed_image_tensor.squeeze())\n",
    "\n",
    "processed_image.save(\"output.png\")\n"
   ]
  }
 ],
 "metadata": {
  "kernelspec": {
   "display_name": "Python 3",
   "language": "python",
   "name": "python3"
  },
  "language_info": {
   "codemirror_mode": {
    "name": "ipython",
    "version": 3
   },
   "file_extension": ".py",
   "mimetype": "text/x-python",
   "name": "python",
   "nbconvert_exporter": "python",
   "pygments_lexer": "ipython3",
   "version": "3.11.5"
  }
 },
 "nbformat": 4,
 "nbformat_minor": 2
}
