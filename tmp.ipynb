{
 "cells": [
  {
   "cell_type": "code",
   "execution_count": 1,
   "metadata": {},
   "outputs": [],
   "source": [
    "import os\n",
    "import sys\n",
    "import random\n",
    "from PIL import Image\n",
    "\n",
    "### Test different between paste() and alpha_composite()\n",
    "\n",
    "img = Image.open(\"R:/amakano/1/Stchit01_0002.png\")\n",
    "base_img = Image.new(mode=\"RGB\", size=img.size, color=\"green\")\n",
    "base_img.paste(img, [0,0], img)\n",
    "base_img.save(\"R:/paste.png\")\n",
    "blend_image = Image.alpha_composite(base_img.convert(mode=\"RGBA\"), img)\n",
    "blend_image.save(\"R:/alpha_composite.png\")"
   ]
  },
  {
   "cell_type": "code",
   "execution_count": 5,
   "metadata": {},
   "outputs": [],
   "source": [
    "import os\n",
    "import shutil\n",
    "\n",
    "source_dir = \"R:/amakanostand\"\n",
    "destination_dir = \"R:/amakano/\"\n",
    "for i in range(1,4):\n",
    "    os.makedirs(os.path.join(destination_dir, str(i)), exist_ok=True)\n",
    "\n",
    "for root, dirs, files in os.walk(source_dir):\n",
    "    for file in files:\n",
    "        if \"LL\" in file and os.path.getsize(os.path.join(root, file)) > 250*1024:\n",
    "            file_name = file.replace(\"LL\",\"\")\n",
    "            L_name = file.replace(\"LL\",\"L\")\n",
    "            shutil.copy(os.path.join(root, file), os.path.join(destination_dir, \"1\", file_name))\n",
    "            shutil.copy(os.path.join(root, L_name), os.path.join(destination_dir, \"2\", file_name))\n",
    "            shutil.copy(os.path.join(root, file_name), os.path.join(destination_dir, \"3\", file_name))"
   ]
  },
  {
   "cell_type": "code",
   "execution_count": null,
   "metadata": {},
   "outputs": [],
   "source": [
    "import data_prepare.misc as misc\n",
    "import cv2\n",
    "import numpy as np\n",
    "\n",
    "img = cv2.imread(\"R:/test.png\")\n",
    "img_gt = cv2.imread(\"R:/gt.png\").astype(np.float32) / 255\n",
    "\n",
    "for a in range(1, 31):\n",
    "    for threshold in range(1, 51):\n",
    "        amount = a/10\n",
    "        out = misc.resize(img, (1280, 720), interpolation = misc.Filter.CATROM).astype(np.float32) / 255\n",
    "        out = misc.unsharp_mask_node(out, 3, amount, 15)\n",
    "        print(amount, amount, misc.calculate_ssim(out, img_gt))"
   ]
  },
  {
   "cell_type": "code",
   "execution_count": 3,
   "metadata": {},
   "outputs": [
    {
     "data": {
      "text/plain": [
       "True"
      ]
     },
     "execution_count": 3,
     "metadata": {},
     "output_type": "execute_result"
    }
   ],
   "source": [
    "import data_prepare.misc as misc\n",
    "import cv2\n",
    "import numpy as np\n",
    "\n",
    "# img = cv2.imread(\"E:/Dataset/amakano2/1080p/e_chi08N_1.png\")\n",
    "img = cv2.imread(\"R:/a_hel_13_d.webp\")\n",
    "size = img.shape[:2][::-1]\n",
    "\n",
    "\n",
    "# out = misc.ringing(img, [int(i*2/3) for i in size])\n",
    "# cv2.imwrite(\"R:/ringing.png\", out)\n",
    "# out = misc.resize(out, [int(i*22/30) for i in size], interpolation = misc.Filter.LINEAR)\n",
    "# cv2.imwrite(\"R:/out.png\", out)\n",
    "\n",
    "out = misc.resize(img, [int(i*0.4) for i in size], interpolation = misc.Filter.CV2_LANCZOS)\n",
    "cv2.imwrite(\"R:/cv2_lanczos40.png\", out)"
   ]
  }
 ],
 "metadata": {
  "kernelspec": {
   "display_name": "Python 3",
   "language": "python",
   "name": "python3"
  },
  "language_info": {
   "codemirror_mode": {
    "name": "ipython",
    "version": 3
   },
   "file_extension": ".py",
   "mimetype": "text/x-python",
   "name": "python",
   "nbconvert_exporter": "python",
   "pygments_lexer": "ipython3",
   "version": "3.11.5"
  }
 },
 "nbformat": 4,
 "nbformat_minor": 2
}
